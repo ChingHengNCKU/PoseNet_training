{
 "cells": [
  {
   "cell_type": "code",
   "execution_count": 1,
   "id": "88e003b0",
   "metadata": {},
   "outputs": [],
   "source": [
    "import os\n",
    "import torch\n",
    "from PIL import Image\n",
    "from torchvision import transforms\n",
    "def get_datas_mean_std(img_folder_path):\n",
    "    \"\"\"Get RGB mean and standard deviation of the images in specify folder.\n",
    "\n",
    "    Args:\n",
    "        img_folder_path (str): The path of the specify folder.\n",
    "\n",
    "    Returns:\n",
    "        [mean (list): RGB mean of training data,\n",
    "         std (list): RGB standard deviation of training data.]\n",
    "    \"\"\"\n",
    "    # img_folder_path = 'lab_data\\datasets\\training_set'\n",
    "    all_list = os.listdir(img_folder_path)\n",
    "    img_list = []\n",
    "    for file in all_list:\n",
    "        if(file.split('.')[-1] != \"txt\"):\n",
    "            img_list.append(file + \"\")\n",
    "    \n",
    "    toTensor = transforms.ToTensor()\n",
    "    ch1_mean = torch.Tensor([]).cuda()\n",
    "    ch2_mean = torch.Tensor([]).cuda()\n",
    "    ch3_mean = torch.Tensor([]).cuda()\n",
    "    ch1_std = torch.Tensor([]).cuda()\n",
    "    ch2_std = torch.Tensor([]).cuda()\n",
    "    ch3_std = torch.Tensor([]).cuda()\n",
    "    for file in img_list:\n",
    "        img_path = os.path.join(img_folder_path, file)\n",
    "        img = Image.open(img_path)\n",
    "        img = toTensor(img).cuda()\n",
    "        ch1_mean = torch.cat((ch1_mean,torch.mean(img[0]).unsqueeze(0)),0) #R\n",
    "        ch2_mean = torch.cat((ch2_mean,torch.mean(img[1]).unsqueeze(0)),0) #G\n",
    "        ch3_mean = torch.cat((ch3_mean,torch.mean(img[2]).unsqueeze(0)),0) #B\n",
    "        ch1_std = torch.cat((ch1_std,torch.std(img[0]).unsqueeze(0)),0) #R\n",
    "        ch2_std = torch.cat((ch2_std,torch.std(img[1]).unsqueeze(0)),0) #G\n",
    "        ch3_std = torch.cat((ch3_std,torch.std(img[2]).unsqueeze(0)),0) #B\n",
    "    \n",
    "    mean = [torch.mean(ch1_mean), torch.mean(ch2_mean), torch.mean(ch3_mean)]\n",
    "    std = [torch.mean(ch1_std), torch.mean(ch2_std), torch.mean(ch3_std)]\n",
    "    \n",
    "    return [mean, std]"
   ]
  },
  {
   "cell_type": "code",
   "execution_count": 2,
   "id": "acdef69a",
   "metadata": {},
   "outputs": [],
   "source": [
    "img_folder_path = 'lab_data/datasets/testing_set'\n",
    "[mean, std] = get_datas_mean_std(img_folder_path)"
   ]
  },
  {
   "cell_type": "code",
   "execution_count": 3,
   "id": "0e3d00b3",
   "metadata": {},
   "outputs": [
    {
     "name": "stdout",
     "output_type": "stream",
     "text": [
      "Mean of training dataset: [tensor(0.4674, device='cuda:0'), tensor(0.4536, device='cuda:0'), tensor(0.4341, device='cuda:0')]\n",
      " Std of training dataset: [tensor(0.2703, device='cuda:0'), tensor(0.2703, device='cuda:0'), tensor(0.2569, device='cuda:0')]\n"
     ]
    }
   ],
   "source": [
    "print(f\"Mean of training dataset: {mean}\\n Std of training dataset: {std}\" )"
   ]
  },
  {
   "cell_type": "code",
   "execution_count": null,
   "id": "d36cea53",
   "metadata": {},
   "outputs": [],
   "source": []
  }
 ],
 "metadata": {
  "kernelspec": {
   "display_name": "torch200Python3",
   "language": "python",
   "name": "kernel_torch200"
  },
  "language_info": {
   "codemirror_mode": {
    "name": "ipython",
    "version": 3
   },
   "file_extension": ".py",
   "mimetype": "text/x-python",
   "name": "python",
   "nbconvert_exporter": "python",
   "pygments_lexer": "ipython3",
   "version": "3.10.11"
  }
 },
 "nbformat": 4,
 "nbformat_minor": 5
}
